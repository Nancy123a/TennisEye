{
 "cells": [
  {
   "cell_type": "code",
   "execution_count": 3,
   "id": "db8732a6-2900-47ad-a055-4ed5d1987cb4",
   "metadata": {},
   "outputs": [
    {
     "data": {
      "text/plain": [
       "[{1: [100, 150, 110, 160]},\n",
       " {1: [102, 152, 112, 162]},\n",
       " {},\n",
       " {1: [106, 156, 116, 166]}]"
      ]
     },
     "execution_count": 3,
     "metadata": {},
     "output_type": "execute_result"
    }
   ],
   "source": [
    "## list of dictionaries\n",
    "ball_positions=[\n",
    "    {1:[100,150,110,160]}, ## Frame 1: ball detected\n",
    "    {1:[102,152,112,162]}, ## Frame 2: ball detected\n",
    "    {},                    ## Frame 3: ball not detected (missing)\n",
    "    {1:[106,156,116,166]} ## Frame 4: ball detexcted\n",
    "]\n",
    "\n",
    "ball_positions"
   ]
  },
  {
   "cell_type": "code",
   "execution_count": 5,
   "id": "d7c1dbc1-88ae-41b1-a053-65c435c19498",
   "metadata": {},
   "outputs": [
    {
     "data": {
      "text/plain": [
       "[[100, 150, 110, 160], [102, 152, 112, 162], [], [106, 156, 116, 166]]"
      ]
     },
     "execution_count": 5,
     "metadata": {},
     "output_type": "execute_result"
    }
   ],
   "source": [
    "## list of lists\n",
    "ball_positions=[x.get(1,[]) for x in ball_positions]\n",
    "ball_positions"
   ]
  },
  {
   "cell_type": "code",
   "execution_count": 7,
   "id": "a9a07d2d-0910-4707-b797-15dc81ec41ab",
   "metadata": {},
   "outputs": [
    {
     "data": {
      "text/html": [
       "<div>\n",
       "<style scoped>\n",
       "    .dataframe tbody tr th:only-of-type {\n",
       "        vertical-align: middle;\n",
       "    }\n",
       "\n",
       "    .dataframe tbody tr th {\n",
       "        vertical-align: top;\n",
       "    }\n",
       "\n",
       "    .dataframe thead th {\n",
       "        text-align: right;\n",
       "    }\n",
       "</style>\n",
       "<table border=\"1\" class=\"dataframe\">\n",
       "  <thead>\n",
       "    <tr style=\"text-align: right;\">\n",
       "      <th></th>\n",
       "      <th>x1</th>\n",
       "      <th>y1</th>\n",
       "      <th>x2</th>\n",
       "      <th>y2</th>\n",
       "    </tr>\n",
       "  </thead>\n",
       "  <tbody>\n",
       "    <tr>\n",
       "      <th>0</th>\n",
       "      <td>100.0</td>\n",
       "      <td>150.0</td>\n",
       "      <td>110.0</td>\n",
       "      <td>160.0</td>\n",
       "    </tr>\n",
       "    <tr>\n",
       "      <th>1</th>\n",
       "      <td>102.0</td>\n",
       "      <td>152.0</td>\n",
       "      <td>112.0</td>\n",
       "      <td>162.0</td>\n",
       "    </tr>\n",
       "    <tr>\n",
       "      <th>2</th>\n",
       "      <td>NaN</td>\n",
       "      <td>NaN</td>\n",
       "      <td>NaN</td>\n",
       "      <td>NaN</td>\n",
       "    </tr>\n",
       "    <tr>\n",
       "      <th>3</th>\n",
       "      <td>106.0</td>\n",
       "      <td>156.0</td>\n",
       "      <td>116.0</td>\n",
       "      <td>166.0</td>\n",
       "    </tr>\n",
       "  </tbody>\n",
       "</table>\n",
       "</div>"
      ],
      "text/plain": [
       "      x1     y1     x2     y2\n",
       "0  100.0  150.0  110.0  160.0\n",
       "1  102.0  152.0  112.0  162.0\n",
       "2    NaN    NaN    NaN    NaN\n",
       "3  106.0  156.0  116.0  166.0"
      ]
     },
     "execution_count": 7,
     "metadata": {},
     "output_type": "execute_result"
    }
   ],
   "source": [
    "import pandas as pd\n",
    "df_ball_positions=pd.DataFrame(ball_positions,columns=['x1','y1','x2','y2'])\n",
    "df_ball_positions.head()"
   ]
  },
  {
   "cell_type": "code",
   "execution_count": 8,
   "id": "8432dec3-3126-4858-bc17-5a999b486b39",
   "metadata": {},
   "outputs": [
    {
     "data": {
      "text/html": [
       "<div>\n",
       "<style scoped>\n",
       "    .dataframe tbody tr th:only-of-type {\n",
       "        vertical-align: middle;\n",
       "    }\n",
       "\n",
       "    .dataframe tbody tr th {\n",
       "        vertical-align: top;\n",
       "    }\n",
       "\n",
       "    .dataframe thead th {\n",
       "        text-align: right;\n",
       "    }\n",
       "</style>\n",
       "<table border=\"1\" class=\"dataframe\">\n",
       "  <thead>\n",
       "    <tr style=\"text-align: right;\">\n",
       "      <th></th>\n",
       "      <th>x1</th>\n",
       "      <th>y1</th>\n",
       "      <th>x2</th>\n",
       "      <th>y2</th>\n",
       "    </tr>\n",
       "  </thead>\n",
       "  <tbody>\n",
       "    <tr>\n",
       "      <th>0</th>\n",
       "      <td>100.0</td>\n",
       "      <td>150.0</td>\n",
       "      <td>110.0</td>\n",
       "      <td>160.0</td>\n",
       "    </tr>\n",
       "    <tr>\n",
       "      <th>1</th>\n",
       "      <td>102.0</td>\n",
       "      <td>152.0</td>\n",
       "      <td>112.0</td>\n",
       "      <td>162.0</td>\n",
       "    </tr>\n",
       "    <tr>\n",
       "      <th>2</th>\n",
       "      <td>104.0</td>\n",
       "      <td>154.0</td>\n",
       "      <td>114.0</td>\n",
       "      <td>164.0</td>\n",
       "    </tr>\n",
       "    <tr>\n",
       "      <th>3</th>\n",
       "      <td>106.0</td>\n",
       "      <td>156.0</td>\n",
       "      <td>116.0</td>\n",
       "      <td>166.0</td>\n",
       "    </tr>\n",
       "  </tbody>\n",
       "</table>\n",
       "</div>"
      ],
      "text/plain": [
       "      x1     y1     x2     y2\n",
       "0  100.0  150.0  110.0  160.0\n",
       "1  102.0  152.0  112.0  162.0\n",
       "2  104.0  154.0  114.0  164.0\n",
       "3  106.0  156.0  116.0  166.0"
      ]
     },
     "execution_count": 8,
     "metadata": {},
     "output_type": "execute_result"
    }
   ],
   "source": [
    "## interpolation:\n",
    "df_ball_positions=df_ball_positions.interpolate()\n",
    "df_ball_positions=df_ball_positions.bfill()\n",
    "df_ball_positions.head()"
   ]
  },
  {
   "cell_type": "code",
   "execution_count": 9,
   "id": "495372af-4a4a-46a7-9de1-2399c677da9a",
   "metadata": {},
   "outputs": [
    {
     "data": {
      "text/plain": [
       "[{1: [100.0, 150.0, 110.0, 160.0]},\n",
       " {1: [102.0, 152.0, 112.0, 162.0]},\n",
       " {1: [104.0, 154.0, 114.0, 164.0]},\n",
       " {1: [106.0, 156.0, 116.0, 166.0]}]"
      ]
     },
     "execution_count": 9,
     "metadata": {},
     "output_type": "execute_result"
    }
   ],
   "source": [
    "ball_positions=[{1:x} for x in df_ball_positions.to_numpy().tolist()]\n",
    "ball_positions"
   ]
  },
  {
   "cell_type": "code",
   "execution_count": null,
   "id": "d07b93a0-f4da-421e-9942-c9766249d696",
   "metadata": {},
   "outputs": [],
   "source": []
  }
 ],
 "metadata": {
  "kernelspec": {
   "display_name": "Python 3 (ipykernel)",
   "language": "python",
   "name": "python3"
  },
  "language_info": {
   "codemirror_mode": {
    "name": "ipython",
    "version": 3
   },
   "file_extension": ".py",
   "mimetype": "text/x-python",
   "name": "python",
   "nbconvert_exporter": "python",
   "pygments_lexer": "ipython3",
   "version": "3.12.4"
  }
 },
 "nbformat": 4,
 "nbformat_minor": 5
}
